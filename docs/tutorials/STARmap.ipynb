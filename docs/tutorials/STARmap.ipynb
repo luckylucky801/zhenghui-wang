{
 "cells": [
  {
   "cell_type": "markdown",
   "id": "2472e9f4-ffd5-46e1-8762-af74c3571b44",
   "metadata": {},
   "source": [
    "# Spoint tutorial: Deconvolution of cell types composition on human brain Visium dataset"
   ]
  },
  {
   "cell_type": "markdown",
   "id": "8453c480-a909-4289-9426-accf84398207",
   "metadata": {},
   "source": [
    "July 2023"
   ]
  },
  {
   "cell_type": "markdown",
   "id": "a06c44ef-d547-4a20-883e-a5eac484dd05",
   "metadata": {},
   "source": [
    "Dataset: Visium slices of human dorsolateral prefrontal cortex ([here](https://zenodo.org/record/8167488))."
   ]
  },
  {
   "cell_type": "code",
   "execution_count": 51,
   "id": "5855d630",
   "metadata": {},
   "outputs": [],
   "source": [
    "import sys\n",
    "sys.path.append('/data/wzh/SPACEL-l')"
   ]
  },
  {
   "cell_type": "code",
   "execution_count": 52,
   "id": "0302a65b-9fd1-4c4f-ba21-d3c1d39b8cfe",
   "metadata": {
    "execution": {
     "iopub.execute_input": "2023-07-11T03:36:01.090135Z",
     "iopub.status.busy": "2023-07-11T03:36:01.089731Z",
     "iopub.status.idle": "2023-07-11T03:38:25.488205Z",
     "shell.execute_reply": "2023-07-11T03:38:25.486831Z",
     "shell.execute_reply.started": "2023-07-11T03:36:01.090092Z"
    },
    "tags": []
   },
   "outputs": [
    {
     "name": "stdout",
     "output_type": "stream",
     "text": [
      "Setting environment seed: 42\n"
     ]
    }
   ],
   "source": [
    "from KanCell.setting import set_environ_seed\n",
    "set_environ_seed()\n",
    "from KanCell import Spoint\n",
    "import scanpy as sc\n",
    "import numpy as np\n",
    "import matplotlib\n",
    "matplotlib.rcParams['pdf.fonttype'] = 42\n",
    "matplotlib.rcParams['ps.fonttype'] = 42\n",
    "matplotlib.rcParams['font.serif'] = ['Arial']\n",
    "sc.settings.set_figure_params(dpi=50,dpi_save=300,facecolor='white',fontsize=10,vector_friendly=True,figsize=(3,3))\n",
    "sc.settings.verbosity = 3"
   ]
  },
  {
   "cell_type": "markdown",
   "id": "9e73a628-f7b1-4657-ae88-ecce71fae608",
   "metadata": {
    "tags": []
   },
   "source": [
    "## Load spatial transcriptomics data"
   ]
  },
  {
   "cell_type": "markdown",
   "id": "32a067a5-22a6-42a1-9948-759614a608dd",
   "metadata": {},
   "source": [
    "The input data are anndata objects stored raw counts for scRNA-seq and ST. The scRNA-seq anndata must have cell type annotation in `.obs`."
   ]
  },
  {
   "cell_type": "code",
   "execution_count": 53,
   "id": "65bc365f-bb59-4abc-8750-5184767f9dff",
   "metadata": {
    "execution": {
     "iopub.execute_input": "2023-07-11T03:38:25.588087Z",
     "iopub.status.busy": "2023-07-11T03:38:25.586254Z",
     "iopub.status.idle": "2023-07-11T03:38:49.640013Z",
     "shell.execute_reply": "2023-07-11T03:38:49.623291Z",
     "shell.execute_reply.started": "2023-07-11T03:38:25.588023Z"
    },
    "scrolled": true,
    "tags": []
   },
   "outputs": [],
   "source": [
    "sc_ad = sc.read_h5ad('/data/KanCell-main/docs/data/starmap/starmap_sc_rna.h5ad')\n",
    "st_ad = sc.read_h5ad('/data/KanCell-main/docs/data/starmap/starmap_spatial.h5ad')\n",
    "sc.pp.filter_genes(st_ad,min_cells=1)\n",
    "sc.pp.filter_genes(sc_ad,min_cells=1)\n",
    "sc.pp.filter_cells(st_ad,min_genes=1)\n",
    "sc.pp.filter_cells(sc_ad,min_genes=1)"
   ]
  },
  {
   "cell_type": "code",
   "execution_count": 54,
   "id": "884b6c99",
   "metadata": {},
   "outputs": [
    {
     "data": {
      "text/plain": [
       "AnnData object with n_obs × n_vars = 14249 × 34041\n",
       "    obs: 'celltype', 'n_genes'\n",
       "    var: 'n_cells'"
      ]
     },
     "execution_count": 54,
     "metadata": {},
     "output_type": "execute_result"
    }
   ],
   "source": [
    "sc_ad"
   ]
  },
  {
   "cell_type": "markdown",
   "id": "3813f224",
   "metadata": {},
   "source": [
    "## Initialize the Spoint model"
   ]
  },
  {
   "cell_type": "markdown",
   "id": "f7babdaf-8b4f-4886-869a-88210f7a7f62",
   "metadata": {},
   "source": [
    "In this step, we initialize the Spoint model using anndata objects for scRNA-seq and ST as input. The `celltype_key` parameter represents the column name of the cell type annotation in the `.obs` attribute of the scRNA-seq anndata object. The `sm_size` parameter controls the number of simulated spots, and it is important to have a sufficient `sm_size` for accurate prediction. However, it should be noted that increasing the `sm_size` will also increase the simulation and training time. In general, we recommend setting `sm_size` to a value greater than 100,000."
   ]
  },
  {
   "cell_type": "code",
   "execution_count": 55,
   "id": "f91509f1-991d-477d-98b0-f0ec74abc834",
   "metadata": {
    "execution": {
     "iopub.execute_input": "2023-07-11T03:38:49.695990Z",
     "iopub.status.busy": "2023-07-11T03:38:49.695589Z",
     "iopub.status.idle": "2023-07-11T03:46:51.248786Z",
     "shell.execute_reply": "2023-07-11T03:46:51.247059Z",
     "shell.execute_reply.started": "2023-07-11T03:38:49.695951Z"
    },
    "scrolled": true,
    "tags": []
   },
   "outputs": [
    {
     "name": "stdout",
     "output_type": "stream",
     "text": [
      "Setting global seed: 42\n",
      "normalizing counts per cell\n",
      "    finished (0:00:00)\n",
      "normalizing counts per cell\n",
      "    finished (0:00:00)\n",
      "### Finding marker genes...\n",
      "ranking genes\n",
      "    finished: added to `.uns['rank_genes_groups']`\n",
      "    'names', sorted np.recarray to be indexed by group ids\n",
      "    'scores', sorted np.recarray to be indexed by group ids\n",
      "    'logfoldchanges', sorted np.recarray to be indexed by group ids\n",
      "    'pvals', sorted np.recarray to be indexed by group ids\n",
      "    'pvals_adj', sorted np.recarray to be indexed by group ids (0:00:01)\n",
      "celltype\n",
      "Excitatory L2/3     200\n",
      "Excitatory L6       200\n",
      "Excitatory L5       197\n",
      "Excitatory L4       190\n",
      "Inhibitory Other    185\n",
      "Inhibitory Sst      178\n",
      "Inhibitory Pvalb    174\n",
      "Inhibitory Vip      170\n",
      "Astro               156\n",
      "Other               120\n",
      "Endo                107\n",
      "Olig                 97\n",
      "Smc                  94\n",
      "Micro                57\n",
      "Neuron Other         51\n",
      "Name: count, dtype: int64\n",
      "### Used gene numbers: 791\n",
      "### Initializing sample probability\n",
      "### Genetating simulated spatial data using scRNA data with mode: unbalance\n",
      "### Genetating simulated spatial data using scRNA data with mode: sqrt\n",
      "### Genetating simulated spatial data using scRNA data with mode: balance\n"
     ]
    }
   ],
   "source": [
    "import os,sys\n",
    "os.environ['CUDA_VISIBLE_DEVICES'] = '2'\n",
    "spoint_model = Spoint.init_model(sc_ad,st_ad,celltype_key='celltype',deg_method='t-test',sm_size=100000,use_gpu=True)"
   ]
  },
  {
   "cell_type": "markdown",
   "id": "01dc0f36",
   "metadata": {},
   "source": [
    "## Training the Spoint model"
   ]
  },
  {
   "cell_type": "markdown",
   "id": "4caa9a6d-e4a2-4d6d-8d7c-d3c0899c7e7a",
   "metadata": {},
   "source": [
    "Here, we train the model to obtain the optimal model for cell type deconvolution. The `max_steps` parameter represents the maximum number of steps in the training process. If the `early_stop` parameter is set to `True`, the model will stop training before reaching the maximum number of steps if the model has converged."
   ]
  },
  {
   "cell_type": "code",
   "execution_count": 56,
   "id": "d65153ad-c8cc-42eb-834c-3ab686890133",
   "metadata": {
    "execution": {
     "iopub.execute_input": "2023-07-11T03:46:51.383395Z",
     "iopub.status.busy": "2023-07-11T03:46:51.382863Z",
     "iopub.status.idle": "2023-07-11T07:12:40.591756Z",
     "shell.execute_reply": "2023-07-11T07:12:40.590556Z",
     "shell.execute_reply.started": "2023-07-11T03:46:51.383344Z"
    },
    "scrolled": true,
    "tags": []
   },
   "outputs": [
    {
     "name": "stderr",
     "output_type": "stream",
     "text": [
      "/root/anaconda3/envs/SPACEL/lib/python3.9/site-packages/anndata/_core/anndata.py:1906: UserWarning: Observation names are not unique. To make them unique, call `.obs_names_make_unique`.\n",
      "  utils.warn_names_duplicates(\"obs\")\n",
      "GPU available: True (cuda), used: True\n",
      "TPU available: False, using: 0 TPU cores\n",
      "IPU available: False, using: 0 IPUs\n",
      "HPU available: False, using: 0 HPUs\n",
      "You are using a CUDA device ('NVIDIA GeForce RTX 3080') that has Tensor Cores. To properly utilize them, you should set `torch.set_float32_matmul_precision('medium' | 'high')` which will trade-off precision for performance. For more details, read https://pytorch.org/docs/stable/generated/torch.set_float32_matmul_precision.html#torch.set_float32_matmul_precision\n",
      "LOCAL_RANK: 0 - CUDA_VISIBLE_DEVICES: [2]\n"
     ]
    },
    {
     "name": "stdout",
     "output_type": "stream",
     "text": [
      "Epoch 100/100: 100%|██████████| 100/100 [01:18<00:00,  1.29it/s, loss=1.12e+03, v_num=1]"
     ]
    },
    {
     "name": "stderr",
     "output_type": "stream",
     "text": [
      "`Trainer.fit` stopped: `max_epochs=100` reached.\n"
     ]
    },
    {
     "name": "stdout",
     "output_type": "stream",
     "text": [
      "Epoch 100/100: 100%|██████████| 100/100 [01:18<00:00,  1.27it/s, loss=1.12e+03, v_num=1]\n"
     ]
    },
    {
     "name": "stderr",
     "output_type": "stream",
     "text": [
      "Step 359: Test inference loss=-0.947:   7%|▋         | 359/5000 [01:36<16:08,  4.79it/s]"
     ]
    }
   ],
   "source": [
    "\n",
    "import os,sys\n",
    "os.environ['CUDA_VISIBLE_DEVICES'] = '2'\n",
    "spoint_model.train(max_steps=5000, batch_size=1024)"
   ]
  },
  {
   "cell_type": "markdown",
   "id": "b73bac57",
   "metadata": {},
   "source": [
    "## Visualization results"
   ]
  },
  {
   "cell_type": "markdown",
   "id": "1f8d9019-24a1-43fe-9c39-a419c87a4fab",
   "metadata": {},
   "source": [
    "Then, we utilize the trained model to predict the cell type composition of each spot in the spatial transcriptomics data. This prediction will generate a `DataFrame` object, where each row corresponds to a spot in the spatial transcriptomics data, each column represents a cell type from the single-cell RNA-seq data, and each entry indicates the proportion of a particular cell type in a spot. Additionally, we can obtain the anndata object of the spatial transcriptomics data with the deconvolution results embedded in the `.obs` attribute."
   ]
  },
  {
   "cell_type": "code",
   "execution_count": null,
   "id": "20ba95b3-dae9-4ddb-a38d-af060f8f0be8",
   "metadata": {
    "execution": {
     "iopub.execute_input": "2023-07-11T07:12:40.706195Z",
     "iopub.status.busy": "2023-07-11T07:12:40.705726Z",
     "iopub.status.idle": "2023-07-11T07:12:43.196576Z",
     "shell.execute_reply": "2023-07-11T07:12:43.190311Z",
     "shell.execute_reply.started": "2023-07-11T07:12:40.706148Z"
    },
    "scrolled": true,
    "tags": []
   },
   "outputs": [],
   "source": [
    "pre = spoint_model.deconv_spatial()"
   ]
  },
  {
   "cell_type": "code",
   "execution_count": null,
   "id": "88eeb4f2-0ced-4513-85bb-fc2345c51c92",
   "metadata": {
    "execution": {
     "iopub.execute_input": "2023-07-11T07:12:43.199007Z",
     "iopub.status.busy": "2023-07-11T07:12:43.198365Z",
     "iopub.status.idle": "2023-07-11T07:12:43.332055Z",
     "shell.execute_reply": "2023-07-11T07:12:43.330995Z",
     "shell.execute_reply.started": "2023-07-11T07:12:43.198961Z"
    },
    "tags": []
   },
   "outputs": [],
   "source": [
    "st_ad = spoint_model.st_ad"
   ]
  },
  {
   "cell_type": "markdown",
   "id": "d9a97eef-42b0-4d0f-a8c5-bb3c1cedb43d",
   "metadata": {},
   "source": [
    "We can see the result of deconvolution in the ST slice."
   ]
  },
  {
   "cell_type": "code",
   "execution_count": null,
   "id": "a3f5b084-5ade-4bc8-a637-94565ab046cf",
   "metadata": {
    "execution": {
     "iopub.execute_input": "2023-07-11T07:40:14.101795Z",
     "iopub.status.busy": "2023-07-11T07:40:14.101170Z",
     "iopub.status.idle": "2023-07-11T07:40:17.835853Z",
     "shell.execute_reply": "2023-07-11T07:40:17.834703Z",
     "shell.execute_reply.started": "2023-07-11T07:40:14.101745Z"
    },
    "tags": []
   },
   "outputs": [],
   "source": [
    "# sc.pl.embedding(st_ad,color=pre.columns[:20],basis='spatial',ncols=5)"
   ]
  },
  {
   "cell_type": "code",
   "execution_count": null,
   "id": "79a6329f",
   "metadata": {},
   "outputs": [
    {
     "name": "stdout",
     "output_type": "stream",
     "text": [
      "数据已成功写入 /data/SPACEL-l/docs/starmap2/SPACEL_result14.txt\n"
     ]
    }
   ],
   "source": [
    "import pandas as pd\n",
    "\n",
    "# 将 adata.obs 转换为 DataFrame\n",
    "obs_df = st_ad.obs\n",
    "\n",
    "# 选择需要写入文件的列\n",
    "columns_to_save = ['Astro', 'Endo', 'Excitatory L2/3', 'Excitatory L4', 'Excitatory L5', 'Excitatory L6',\n",
    "                   'Inhibitory Other', 'Inhibitory Pvalb', 'Inhibitory Sst', 'Inhibitory Vip', 'Micro',\n",
    "                   'Neuron Other', 'Olig', 'Other', 'Smc']\n",
    "0\n",
    "# 确保这些列在 adata.obs 中存在\n",
    "obs_df = obs_df[columns_to_save]\n",
    "\n",
    "# 将 DataFrame 写入文本文件\n",
    "output_file_path = '/data/SPACEL-l/docs/starmap2/SPACEL_result15.txt'\n",
    "obs_df.to_csv(output_file_path, sep='\\t', index=False)\n",
    "\n",
    "print(f\"数据已成功写入 {output_file_path}\")\n"
   ]
  }
 ],
 "metadata": {
  "kernelspec": {
   "display_name": "SPACEL",
   "language": "python",
   "name": "python3"
  },
  "language_info": {
   "codemirror_mode": {
    "name": "ipython",
    "version": 3
   },
   "file_extension": ".py",
   "mimetype": "text/x-python",
   "name": "python",
   "nbconvert_exporter": "python",
   "pygments_lexer": "ipython3",
   "version": "3.9.19"
  }
 },
 "nbformat": 4,
 "nbformat_minor": 5
}
